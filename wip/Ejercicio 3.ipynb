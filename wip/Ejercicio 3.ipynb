{
 "cells": [
  {
   "cell_type": "code",
   "execution_count": 1,
   "metadata": {
    "collapsed": false
   },
   "outputs": [
    {
     "ename": "LoadError",
     "evalue": "LoadError: ArgumentError: ChaosCrypto not found in path\nwhile loading In[1], in expression starting on line 1",
     "output_type": "error",
     "traceback": [
      "LoadError: ArgumentError: ChaosCrypto not found in path\nwhile loading In[1], in expression starting on line 1",
      ""
     ]
    }
   ],
   "source": [
    "using ChaosCrypto"
   ]
  },
  {
   "cell_type": "code",
   "execution_count": null,
   "metadata": {
    "collapsed": false
   },
   "outputs": [],
   "source": [
    "#Funciones Runge Kutta\n",
    "function runge2(f,x,t,dt)\n",
    "    k1 = f(x,t)\n",
    "    k2 = f(x+2dt*k1/3, t+2*dt/3)\n",
    "    (k1/4+3k2/4)\n",
    "end\n",
    "\n",
    "function runge4(f,x,t,dt)\n",
    "    k1 = f(x,t)\n",
    "    k2 = f(x+dt*k1/2, t+dt/2)\n",
    "    k3 = f(x+dt*k2/2,t+dt/2)\n",
    "    k4 = f(x+dt*k3,t + dt)\n",
    "    (k1+2k2+2k3+k4)/6\n",
    "end\n",
    "\n",
    "function superrunge(f,x,t,dt)\n",
    "    x1x,u1x,x1y,u1y,x2x,u2x,x2y,u2y = x\n",
    "    normi = ((x1x-x2x)^2+(x1y-x2y)^2)^(-3/2)\n",
    "    if normi < 1e-3\n",
    "        return \"fin\"\n",
    "    else\n",
    "        k1 = f(x,t)\n",
    "        k2 = f(x+dt*k1/2, t+dt/2)\n",
    "        k3 = f(x+dt*k2/2,t+dt/2)\n",
    "        k4 = f(x+dt*k3,t + dt)\n",
    "        (k1+2k2+2k3+k4)/6\n",
    "    end\n",
    "end"
   ]
  },
  {
   "cell_type": "code",
   "execution_count": null,
   "metadata": {
    "collapsed": false
   },
   "outputs": [],
   "source": [
    "#Integracion\n",
    "function integrar(f, x0, t0, t_final, dt, metodo = 4)\n",
    "    # necesito una function f(x,t)\n",
    "    # que come un vector x, el tiempo t\n",
    "    # y regresa un vector (el campo vectorial evaluado en x,t)\n",
    "    \n",
    "    tiempos = [t0]\n",
    "    xs = typeof(x0)[x0]\n",
    "\n",
    "    #x = copy(x0)  # ver pythontutor.com\n",
    "    \n",
    "    x = x0\n",
    "    \n",
    "    for t in t0:dt:t_final\n",
    "        if metodo == 1\n",
    "            k = f(x,t)\n",
    "        elseif metodo == 2\n",
    "            k = runge2(f,x,t,dt)\n",
    "        elseif metodo == 4\n",
    "            k = runge4(f,x,t,dt)\n",
    "        elseif metodo == 20\n",
    "            k = superrunge(f,x,t,dt)\n",
    "            if k == \"fin\"\n",
    "                return xs, tiempos\n",
    "            end\n",
    "        else\n",
    "            error(\"Los únicos métodos son 1 2 ó 4\")\n",
    "        end\n",
    "        x_nueva = x + dt*k\n",
    "        \n",
    "        push!(xs, x)\n",
    "        push!(tiempos, t)\n",
    "        \n",
    "        x = x_nueva\n",
    "        \n",
    "    end\n",
    "    \n",
    "    xs, tiempos\n",
    "end"
   ]
  },
  {
   "cell_type": "code",
   "execution_count": null,
   "metadata": {
    "collapsed": false
   },
   "outputs": [],
   "source": [
    "#Funcion para generar Taylor\n",
    "function generarTaylor(condIni, funcion)\n",
    "    funcion(condIni)\n",
    "end\n",
    "\n",
    "#Funcion para generar serie\n",
    "function generarSerie(polTalor)\n",
    "    x = Float64[]\n",
    "    push!(x, polTalor.ini)\n",
    "    valores = copy(polTalor.coef)\n",
    "    for i in 1:length(valores)\n",
    "        push!(x, valores[i]/i)\n",
    "    end\n",
    "    x\n",
    "end\n",
    "\n",
    "#Funcion para generar intervalos\n",
    "function generaIntervalo(lista)\n",
    "    p = length(lista)\n",
    "    h = lista[end]\n",
    "    while (lista[p] == 0)\n",
    "        p -= 1\n",
    "        h = lista[p]\n",
    "    end\n",
    "    ϵ = 1e-3\n",
    "    (ϵ/h)^(1/p)\n",
    "end\n",
    "\n",
    "#Funcion horner\n",
    "function horner(x,h = 1e-3)\n",
    "    p = length(x)\n",
    "    xt = zeros(x)\n",
    "    xt[p-1] = x[p-1] + h*x[p]\n",
    "    for i in 3:p\n",
    "        xt[p-i+1] = x[p-i+1] + h*xt[p-i+1+1]\n",
    "    end\n",
    "    xt[1]\n",
    "end\n",
    "\n",
    "#Funcion Lorenz\n",
    "function lorenz(xx, t)\n",
    "    x, y, z, xr, yr, zr= xx\n",
    "    AD.Taylor(x, [σ])*(AD.Taylor(x,[y])-AD.Taylor(x,[x])),\n",
    "    AD.Taylor(y,[x])*(AD.Taylor(y,[ρ])-AD.Taylor(y,[z]))-AD.Taylor(y,[y]),\n",
    "    AD.Taylor(z,[x])*AD.Taylor(z,[y])-AD.Taylor(z,[β])*AD.Taylor(z,[z]),\n",
    "    AD.Taylor(xr,[σ])*(AD.Taylor(xr,[y])-AD.Taylor(xr,[xr])),\n",
    "    AD.Taylor(yr,[ρ])*AD.Taylor(yr,[xr])-AD.Taylor(yr,[yr])-AD.Taylor(yr,[xr])*AD.Taylor(yr,[zr]),\n",
    "    AD.Taylor(zr,[xr])*AD.Taylor(zr,[yr])-AD.Taylor(zr,[β])*AD.Taylor(zr,[zr])\n",
    "end"
   ]
  },
  {
   "cell_type": "code",
   "execution_count": null,
   "metadata": {
    "collapsed": false
   },
   "outputs": [],
   "source": [
    "#Funcion integradora \n",
    "function integrador(x0, f, tf)\n",
    "    a = generarTaylor(x0,f)\n",
    "    b = map(generarSerie,a)\n",
    "    suma = map(horner,b)\n",
    "    sol = Array{Float64,1}[x0, [suma...]]\n",
    "    t = [0.,1e-3]\n",
    "    while t[end] < tf\n",
    "        a = generarTaylor(sol[end],f)\n",
    "        b = map(generarSerie,a)\n",
    "        suma = map(horner,b)\n",
    "        push!(sol,[suma...])\n",
    "        push!(t,t[end]+1e-3)\n",
    "    end\n",
    "    sol,t\n",
    "end"
   ]
  },
  {
   "cell_type": "code",
   "execution_count": null,
   "metadata": {
    "collapsed": false
   },
   "outputs": [],
   "source": [
    "σ = 10\n",
    "ρ = 60\n",
    "β = 8/3"
   ]
  },
  {
   "cell_type": "code",
   "execution_count": null,
   "metadata": {
    "collapsed": false
   },
   "outputs": [],
   "source": [
    "function lorenzSin(xx,t)\n",
    "    x, y, z, xr, yr, zr = xx\n",
    "    \n",
    "    m = sin(t)\n",
    "    s = x + m\n",
    "    \n",
    "    [σ*(y-x), (ρ*x - y - x*z), x*y-β*z,\n",
    "     σ*(yr-xr), (ρ*s - yr - s*zr) , (s*yr - β*zr)]\n",
    "end"
   ]
  },
  {
   "cell_type": "code",
   "execution_count": null,
   "metadata": {
    "collapsed": false
   },
   "outputs": [],
   "source": [
    "xsSin, tsSin = integrar(lorenzSin,[1., 1., 1., 1., 1., 1.],0. ,30. ,1e-3,4)"
   ]
  },
  {
   "cell_type": "code",
   "execution_count": null,
   "metadata": {
    "collapsed": false
   },
   "outputs": [],
   "source": [
    "m = sin(tsSin)\n",
    "s = [x[1] for x in xsSin] + m\n",
    "m_hat = s - [x[4] for x in xsSin]"
   ]
  },
  {
   "cell_type": "code",
   "execution_count": null,
   "metadata": {
    "collapsed": false
   },
   "outputs": [],
   "source": [
    "plot(tsSin, m)\n",
    "plot(tsSin, m_hat)\n",
    "legend()"
   ]
  },
  {
   "cell_type": "code",
   "execution_count": null,
   "metadata": {
    "collapsed": false
   },
   "outputs": [],
   "source": [
    "function paso(x)\n",
    "    if x > 2 && x < 3\n",
    "        return 1.\n",
    "    end \n",
    "    0.\n",
    "end"
   ]
  },
  {
   "cell_type": "code",
   "execution_count": null,
   "metadata": {
    "collapsed": false
   },
   "outputs": [],
   "source": [
    "function lorenzpaso(xx,t)\n",
    "    x, y, z, xr, yr, zr = xx\n",
    "    \n",
    "    m = paso(t)\n",
    "    s = x + m\n",
    "    \n",
    "    [σ*(y-x), (ρ*x - y - x*z), x*y-β*z,\n",
    "     σ*(yr-xr), (ρ*s - yr - s*zr) , (s*yr - β*zr)]\n",
    "end"
   ]
  },
  {
   "cell_type": "code",
   "execution_count": null,
   "metadata": {
    "collapsed": false
   },
   "outputs": [],
   "source": [
    "xsPaso, tsPaso = integrar(lorenzpaso,[1., 1., 1., 1., 10, 10],0. ,30. ,1e-3,4)"
   ]
  },
  {
   "cell_type": "code",
   "execution_count": null,
   "metadata": {
    "collapsed": false
   },
   "outputs": [],
   "source": [
    "mpaso = [paso(p) for p in tsPaso]"
   ]
  },
  {
   "cell_type": "code",
   "execution_count": null,
   "metadata": {
    "collapsed": false
   },
   "outputs": [],
   "source": [
    "s = [x[1] for x in xsPaso] + m\n",
    "m_hat_paso = s - [x[4] for x in xsPaso]"
   ]
  },
  {
   "cell_type": "code",
   "execution_count": null,
   "metadata": {
    "collapsed": false
   },
   "outputs": [],
   "source": [
    "plot(tsPaso, mpaso)\n",
    "plot(tsPaso, m_hat_paso)\n",
    "legend("
   ]
  },
  {
   "cell_type": "code",
   "execution_count": null,
   "metadata": {
    "collapsed": false
   },
   "outputs": [],
   "source": [
    "plot(tsPaso, mpaso)\n",
    "plot(tsPaso, m_hat_paso)\n",
    "legend()"
   ]
  },
  {
   "cell_type": "code",
   "execution_count": null,
   "metadata": {
    "collapsed": true
   },
   "outputs": [],
   "source": []
  }
 ],
 "metadata": {
  "kernelspec": {
   "display_name": "Julia 0.4.5",
   "language": "julia",
   "name": "julia-0.4"
  },
  "language_info": {
   "file_extension": ".jl",
   "mimetype": "application/julia",
   "name": "julia",
   "version": "0.4.5"
  }
 },
 "nbformat": 4,
 "nbformat_minor": 0
}
