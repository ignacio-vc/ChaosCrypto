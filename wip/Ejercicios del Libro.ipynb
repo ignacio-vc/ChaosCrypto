{
 "cells": [
  {
   "cell_type": "code",
   "execution_count": null,
   "metadata": {
    "collapsed": true
   },
   "outputs": [],
   "source": [
    "using ChaosCrypto\n",
    "using PyPlot\n",
    "using Interact\n"
   ]
  },
  {
   "cell_type": "markdown",
   "metadata": {},
   "source": [
    "9.6.2 (Pecora and Carroll’s approach) \n",
    "In the pioneering work of Pecora and Carroll (1990), one of the receiver variables is simply set equal to the corresponding transmitter variable. \n",
    "\n",
    "For instance, if x(t) is used as the transmitter drive signal, then the receiver equations are\n",
    "\n",
    "x(t) = x(t)\n",
    "deriv_yr = [r * x(t)] - [yr] - [x(t) * zr]\n",
    "deriv_zr = [x(t) * yr] - [b * zr]\n",
    "\n",
    "$\\dot{a}$\n",
    "\n",
    "where the first equation is not a differential equation. Their numerical simulations and a heuristic argument suggested that \n",
    "\n",
    "yr(t) → y(t) and zr(t) → z(t) as t → ∞\n",
    "\n",
    "even if there were differences in the initial conditions."
   ]
  },
  {
   "cell_type": "code",
   "execution_count": null,
   "metadata": {
    "collapsed": true
   },
   "outputs": [],
   "source": []
  },
  {
   "cell_type": "markdown",
   "metadata": {},
   "source": [
    "9.6.3 (Computer experiments on synchronized chaos) \n",
    "Let x, y, z be governed by the Lorenz equations with r = 60, σ = 10, b = 8/3. \n",
    "Let xr, yr, zr be governed by the system in Exercise 9.6.2. \n",
    "Choose different initial conditions for y and yr, and similarly for z and zr, and then start integrating numerically.\n",
    "\n",
    "a) Plot y(t) and yr(t) on the same graph. With any luck, the two time series should eventually merge, even though both are chaotic.\n",
    "b) Plot the (y,z) projection of both trajectories."
   ]
  },
  {
   "cell_type": "markdown",
   "metadata": {},
   "source": [
    "9.6.4 (Some drives don’t work) \n",
    "Suppose z(t) were the drive signal in Exercise 9.6.2, instead of x(t). In other words, we replace zr by z(t) everywhere in the receiver equations, and watch how xr and yr evolve.\n",
    "\n",
    "a) Show numerically that the receiver does not synchronize in this case.\n",
    "b) What if y(t) were the drive?"
   ]
  },
  {
   "cell_type": "markdown",
   "metadata": {},
   "source": [
    "9.6.5 (Masking)\n",
    "In their signal-masking approach, Cuomo and Oppenheim (1992, 1993) use the following receiver dynamics:\n",
    "\n",
    "deriv_xr = sigma * (yr - xr)\n",
    "deriv_yr = [r * s(t)] - [y(r) - s(t) * z(r)]\n",
    "deriv_zr = [s(t) * yr] - [b * zr]\n",
    "\t \n",
    "where \n",
    "\n",
    "s(t) = x(t) + m(t), and m(t) \n",
    "\n",
    "is the low-power message added to the much stronger chaotic mask x(t). If the receiver has synchronized with the drive, then xr(t) ≈ x(t) and so m(t) may be recovered as \n",
    "\n",
    "m_carat(t) = s(t) - xr(t)\n",
    "\n",
    "Test this approach numerically, using a sine wave for m(t). How close is the estimate  to the actual message m(t)? How does the error depend on the frequency of the sine wave?"
   ]
  }
 ],
 "metadata": {
  "kernelspec": {
   "display_name": "Julia 0.4.5",
   "language": "julia",
   "name": "julia-0.4"
  },
  "language_info": {
   "file_extension": ".jl",
   "mimetype": "application/julia",
   "name": "julia",
   "version": "0.4.5"
  }
 },
 "nbformat": 4,
 "nbformat_minor": 0
}
