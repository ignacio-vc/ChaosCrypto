{
 "cells": [
  {
   "cell_type": "markdown",
   "metadata": {},
   "source": [
    "#### 9.6.2 (Pecora and Carroll’s approach) \n",
    "In the pioneering work of Pecora and Carroll (1990), one of the receiver variables is simply set equal to the corresponding transmitter variable.  \n",
    "For instance, if $x(t)$ is used as the transmitter drive signal, then the receiver equations are\n",
    "\n",
    "$x(t) = x(t)$  \n",
    "$\\dot{y_r} = [rx(t)] - [y_r] - [x(t)z_r]$  \n",
    "$\\dot{z_r} = [x(t)y_r] - [bz_r]$  \n",
    "\n",
    "where the first equation is not a differential equation. Their numerical simulations and a heuristic argument suggested that  \n",
    "$y_r(t) → y(t)$ and $z_r(t) → z(t)$ as $t → ∞$ even if there were differences in the initial conditions.  "
   ]
  },
  {
   "cell_type": "code",
   "execution_count": 2,
   "metadata": {
    "collapsed": false,
    "scrolled": true
   },
   "outputs": [],
   "source": [
    "using ChaosCrypto\n",
    "using PyPlot\n",
    "using Interact"
   ]
  },
  {
   "cell_type": "markdown",
   "metadata": {},
   "source": [
    "#### 9.6.3 (Computer experiments on synchronized chaos) \n",
    "Let $x, y, z$ be governed by the Lorenz equations with $r = 60, σ = 10, b = 8/3$.  \n",
    "Let $x_r, y_r, z_r$ be governed by the system in Exercise 9.6.2.  \n",
    "Choose different initial conditions for $y$ and $y_r$, and similarly for $z$ and $z_r$, and then start integrating numerically.  \n",
    "\n",
    "a) Plot $y(t)$ and $y_r(t)$ on the same graph. With any luck, the two time series should eventually merge, even though both are chaotic.  \n",
    "b) Plot the $(y,z)$ projection of both trajectories."
   ]
  },
  {
   "cell_type": "code",
   "execution_count": null,
   "metadata": {
    "collapsed": true
   },
   "outputs": [],
   "source": [
    "#Sea r igual a rho, "
   ]
  },
  {
   "cell_type": "markdown",
   "metadata": {},
   "source": [
    "#### 9.6.4 (Some drives don’t work) \n",
    "Suppose $z(t)$ were the drive signal in Exercise 9.6.2, instead of $x(t)$. In other words, we replace $z_r$ by $z(t)$ everywhere in the receiver equations, and watch how $x_r$ and $y_r$ evolve.\n",
    "\n",
    "a) Show numerically that the receiver does not synchronize in this case.  \n",
    "b) What if $y(t)$ were the drive?"
   ]
  },
  {
   "cell_type": "code",
   "execution_count": null,
   "metadata": {
    "collapsed": true
   },
   "outputs": [],
   "source": []
  },
  {
   "cell_type": "markdown",
   "metadata": {},
   "source": [
    "#### 9.6.5 (Masking)\n",
    "In their signal-masking approach, Cuomo and Oppenheim (1992, 1993) use the following receiver dynamics:\n",
    "\n",
    "$\\dot{x_r} = \\sigma (y_r - x_r)$  \n",
    "$\\dot{y_r} = [rs(t)] - [y(r)] - [s(t)z_r]$   \n",
    "$\\dot{z_r} = [s(t)y_r] - [bz_r]$  \n",
    "\n",
    "where  $s(t) = x(t) + m(t)$,  and $m(t)$ is the low-power message added to the much stronger chaotic mask $x(t)$. If the receiver has synchronized with the drive, then $x_r(t) ≈ x(t)$ and so $m(t)$ may be recovered as  $\\hat{m}(t) = s(t) - x_r(t)$\n",
    "\n",
    "Test this approach numerically, using a sine wave for $m(t)$. How close is the estimate  to the actual message $m(t)$? How does the error depend on the frequency of the sine wave?"
   ]
  },
  {
   "cell_type": "code",
   "execution_count": null,
   "metadata": {
    "collapsed": true
   },
   "outputs": [],
   "source": []
  }
 ],
 "metadata": {
  "kernelspec": {
   "display_name": "Julia 0.4.5",
   "language": "julia",
   "name": "julia-0.4"
  },
  "language_info": {
   "file_extension": ".jl",
   "mimetype": "application/julia",
   "name": "julia",
   "version": "0.4.5"
  }
 },
 "nbformat": 4,
 "nbformat_minor": 0
}
