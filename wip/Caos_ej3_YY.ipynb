{
 "cells": [
  {
   "cell_type": "markdown",
   "metadata": {},
   "source": [
    "# Uso del Caos para Transmitir Mensajes Encriptados"
   ]
  },
  {
   "cell_type": "code",
   "execution_count": 1,
   "metadata": {
    "collapsed": false
   },
   "outputs": [],
   "source": [
    "using ChaosCrypto"
   ]
  },
  {
   "cell_type": "markdown",
   "metadata": {},
   "source": [
    "### Ecuaciones de Lorenz\n",
    "\n",
    "$\\frac{dx}{dt}= \\sigma (y - x)$\n",
    "\n",
    "$\\frac{dy}{dt} = rx -y -xz$\n",
    "\n",
    "$\\frac{dz}{dt} = xy -bz$"
   ]
  },
  {
   "cell_type": "markdown",
   "metadata": {},
   "source": [
    "Si *x(t)* es la señal que se transmite.\n",
    "Lo que se recibe es:\n",
    "\n",
    "$xr = x(t)$\n",
    "\n",
    "$yr = rx(t) -yr -x(t)zr$\n",
    "\n",
    "$zr = x(t)yr -bzr$"
   ]
  },
  {
   "cell_type": "code",
   "execution_count": 2,
   "metadata": {
    "collapsed": true
   },
   "outputs": [],
   "source": [
    "using PyPlot"
   ]
  },
  {
   "cell_type": "markdown",
   "metadata": {},
   "source": [
    "Parámetros\n",
    "\n",
    "r = 60 \n",
    "\n",
    "σ = 10\n",
    "\n",
    "b = $\\frac{8}{3}$"
   ]
  },
  {
   "cell_type": "code",
   "execution_count": 3,
   "metadata": {
    "collapsed": true
   },
   "outputs": [],
   "source": [
    "#Implementación Taylor"
   ]
  },
  {
   "cell_type": "code",
   "execution_count": null,
   "metadata": {
    "collapsed": true
   },
   "outputs": [],
   "source": []
  },
  {
   "cell_type": "code",
   "execution_count": 4,
   "metadata": {
    "collapsed": false
   },
   "outputs": [
    {
     "data": {
      "text/plain": [
       "runge2 (generic function with 1 method)"
      ]
     },
     "execution_count": 4,
     "metadata": {},
     "output_type": "execute_result"
    }
   ],
   "source": [
    "function runge2(f,x,t,dt)\n",
    "    k1 = f(x,t)\n",
    "    k2 = f(x+2dt*k1/3, t+2*dt/3)\n",
    "    (k1/4+3k2/4)\n",
    "end"
   ]
  },
  {
   "cell_type": "code",
   "execution_count": 5,
   "metadata": {
    "collapsed": false
   },
   "outputs": [
    {
     "data": {
      "text/plain": [
       "f (generic function with 1 method)"
      ]
     },
     "execution_count": 5,
     "metadata": {},
     "output_type": "execute_result"
    }
   ],
   "source": [
    "f(x) = x^2"
   ]
  },
  {
   "cell_type": "code",
   "execution_count": 6,
   "metadata": {
    "collapsed": false
   },
   "outputs": [
    {
     "ename": "LoadError",
     "evalue": "LoadError: MethodError: `runge2` has no method matching runge2()\nwhile loading In[6], in expression starting on line 1",
     "output_type": "error",
     "traceback": [
      "LoadError: MethodError: `runge2` has no method matching runge2()\nwhile loading In[6], in expression starting on line 1",
      ""
     ]
    }
   ],
   "source": [
    "runge2()"
   ]
  },
  {
   "cell_type": "code",
   "execution_count": 7,
   "metadata": {
    "collapsed": false
   },
   "outputs": [
    {
     "data": {
      "text/plain": [
       "integrar (generic function with 2 methods)"
      ]
     },
     "execution_count": 7,
     "metadata": {},
     "output_type": "execute_result"
    }
   ],
   "source": [
    "function runge2(f,x,t,dt)\n",
    "    k1 = f(x,t)\n",
    "    k2 = f(x+2dt*k1/3, t+2*dt/3)\n",
    "    (k1/4+3k2/4)\n",
    "end\n",
    "\n",
    "function runge4(f,x,t,dt) \n",
    "    k1 = f(x,t)\n",
    "    k2 = f(x+dt*k1/2, t+dt/2)\n",
    "    k3 = f(x+dt*k2/2,t+dt/2)\n",
    "    k4 = f(x+dt*k3,t + dt)\n",
    "    (k1+2k2+2k3+k4)/6\n",
    "end\n",
    "\n",
    "function superrunge(f,x,t,dt)\n",
    "    x1x,u1x,x1y,u1y,x2x,u2x,x2y,u2y = x\n",
    "    normi = ((x1x-x2x)^2+(x1y-x2y)^2)^(-3/2)\n",
    "    if normi < 1e-3\n",
    "        return \"fin\"\n",
    "    else\n",
    "        k1 = f(x,t)\n",
    "        k2 = f(x+dt*k1/2, t+dt/2)\n",
    "        k3 = f(x+dt*k2/2,t+dt/2)\n",
    "        k4 = f(x+dt*k3,t + dt)\n",
    "        (k1+2k2+2k3+k4)/6\n",
    "    end\n",
    "end\n",
    "\n",
    "function integrar(f, x0, t0, t_final, dt, metodo = 4)\n",
    "    # necesito una function f(x,t)\n",
    "    # que come un vector x, el tiempo t\n",
    "    # y regresa un vector (el campo vectorial evaluado en x,t)\n",
    "    \n",
    "    tiempos = [t0]\n",
    "    xs = typeof(x0)[x0]\n",
    "\n",
    "    #x = copy(x0)  # ver pythontutor.com\n",
    "    \n",
    "    x = x0\n",
    "    \n",
    "    for t in t0:dt:t_final\n",
    "        if metodo == 1\n",
    "            k = f(x,t)\n",
    "        elseif metodo == 2\n",
    "            k = runge2(f,x,t,dt)\n",
    "        elseif metodo == 4\n",
    "            k = runge4(f,x,t,dt)\n",
    "        elseif metodo == 20\n",
    "            k = superrunge(f,x,t,dt)\n",
    "            if k == \"fin\"\n",
    "                return xs, tiempos\n",
    "            end\n",
    "        else\n",
    "            error(\"Los únicos métodos son 1 2 ó 4\")\n",
    "        end\n",
    "        x_nueva = x + dt*k\n",
    "        \n",
    "        push!(xs, x)\n",
    "        push!(tiempos, t)\n",
    "        \n",
    "        x = x_nueva\n",
    "        \n",
    "    end\n",
    "    \n",
    "    xs, tiempos\n",
    "end\n",
    "\n"
   ]
  },
  {
   "cell_type": "code",
   "execution_count": 8,
   "metadata": {
    "collapsed": false
   },
   "outputs": [
    {
     "data": {
      "text/plain": [
       "2.6666666666666665"
      ]
     },
     "execution_count": 8,
     "metadata": {},
     "output_type": "execute_result"
    }
   ],
   "source": [
    "ρ = 60\n",
    "σ = 10\n",
    "β = 8/3"
   ]
  },
  {
   "cell_type": "code",
   "execution_count": 9,
   "metadata": {
    "collapsed": false
   },
   "outputs": [
    {
     "name": "stdout",
     "output_type": "stream",
     "text": [
      "search: "
     ]
    },
    {
     "data": {
      "text/latex": [
       "\\begin{verbatim}\n",
       "..  push!(collection, items...) -> collection\n",
       "\n",
       "Insert one or more ``items`` at the end of ``collection``.\n",
       "\n",
       ".. doctest::\n",
       "\n",
       "  julia> push!([1, 2, 3], 4, 5, 6)\n",
       "  6-element Array{Int64,1}:\n",
       "   1\n",
       "   2\n",
       "   3\n",
       "   4\n",
       "   5\n",
       "   6\n",
       "\n",
       "Use :func:`append!` to add all the elements of another collection to\n",
       "``collection``.\n",
       "The result of the preceding example is equivalent to\n",
       "``append!([1, 2, 3], [4, 5, 6])``.\n",
       "\\end{verbatim}\n"
      ],
      "text/markdown": [
       "```rst\n",
       "..  push!(collection, items...) -> collection\n",
       "\n",
       "Insert one or more ``items`` at the end of ``collection``.\n",
       "\n",
       ".. doctest::\n",
       "\n",
       "  julia> push!([1, 2, 3], 4, 5, 6)\n",
       "  6-element Array{Int64,1}:\n",
       "   1\n",
       "   2\n",
       "   3\n",
       "   4\n",
       "   5\n",
       "   6\n",
       "\n",
       "Use :func:`append!` to add all the elements of another collection to\n",
       "``collection``.\n",
       "The result of the preceding example is equivalent to\n",
       "``append!([1, 2, 3], [4, 5, 6])``.\n",
       "```\n"
      ],
      "text/plain": [
       "```rst\n",
       "..  push!(collection, items...) -> collection\n",
       "\n",
       "Insert one or more ``items`` at the end of ``collection``.\n",
       "\n",
       ".. doctest::\n",
       "\n",
       "  julia> push!([1, 2, 3], 4, 5, 6)\n",
       "  6-element Array{Int64,1}:\n",
       "   1\n",
       "   2\n",
       "   3\n",
       "   4\n",
       "   5\n",
       "   6\n",
       "\n",
       "Use :func:`append!` to add all the elements of another collection to\n",
       "``collection``.\n",
       "The result of the preceding example is equivalent to\n",
       "``append!([1, 2, 3], [4, 5, 6])``.\n",
       "```\n"
      ]
     },
     "execution_count": 9,
     "metadata": {},
     "output_type": "execute_result"
    }
   ],
   "source": [
    "?push!\n",
    "\n"
   ]
  },
  {
   "cell_type": "code",
   "execution_count": 62,
   "metadata": {
    "collapsed": false
   },
   "outputs": [
    {
     "data": {
      "text/plain": [
       "m (generic function with 1 method)"
      ]
     },
     "execution_count": 62,
     "metadata": {},
     "output_type": "execute_result"
    }
   ],
   "source": [
    "function m(t) #Función seno en el tiempo\n",
    "    t = linspace(0, 2π, 360)\n",
    "    h = Array(t)\n",
    "    #m = zeros(360)\n",
    "    s=Array(Float64,360)\n",
    "    for i in 0:360\n",
    "    s[i] = sin(t[i])\n",
    "    end\n",
    "    \n",
    "    push!(s) \n",
    "end\n",
    "    "
   ]
  },
  {
   "cell_type": "code",
   "execution_count": 67,
   "metadata": {
    "collapsed": false
   },
   "outputs": [
    {
     "data": {
      "image/png": "[encoded data removed]",
      "text/plain": [
       "PyPlot.Figure(PyObject <matplotlib.figure.Figure object at 0x320115590>)"
      ]
     },
     "metadata": {},
     "output_type": "display_data"
    },
    {
     "data": {
      "text/plain": [
       "1-element Array{Any,1}:\n",
       " PyObject <matplotlib.lines.Line2D object at 0x320397510>"
      ]
     },
     "execution_count": 67,
     "metadata": {},
     "output_type": "execute_result"
    }
   ],
   "source": [
    "plot(t,s)"
   ]
  },
  {
   "cell_type": "code",
   "execution_count": 41,
   "metadata": {
    "collapsed": false
   },
   "outputs": [
    {
     "data": {
      "text/plain": [
       "360-element Array{Float64,1}:\n",
       " 0.0      \n",
       " 0.0175019\n",
       " 0.0350038\n",
       " 0.0525057\n",
       " 0.0700076\n",
       " 0.0875095\n",
       " 0.105011 \n",
       " 0.122513 \n",
       " 0.140015 \n",
       " 0.157517 \n",
       " 0.175019 \n",
       " 0.192521 \n",
       " 0.210023 \n",
       " ⋮        \n",
       " 6.09066  \n",
       " 6.10817  \n",
       " 6.12567  \n",
       " 6.14317  \n",
       " 6.16067  \n",
       " 6.17817  \n",
       " 6.19568  \n",
       " 6.21318  \n",
       " 6.23068  \n",
       " 6.24818  \n",
       " 6.26568  \n",
       " 6.28319  "
      ]
     },
     "execution_count": 41,
     "metadata": {},
     "output_type": "execute_result"
    }
   ],
   "source": [
    "t = linspace(0, 2π, 360)\n",
    "h = Array(t)"
   ]
  },
  {
   "cell_type": "code",
   "execution_count": 61,
   "metadata": {
    "collapsed": false
   },
   "outputs": [
    {
     "data": {
      "text/plain": [
       "0.034996652276821125"
      ]
     },
     "execution_count": 61,
     "metadata": {},
     "output_type": "execute_result"
    }
   ],
   "source": [
    "sin(0.0350038)"
   ]
  },
  {
   "cell_type": "code",
   "execution_count": 59,
   "metadata": {
    "collapsed": false
   },
   "outputs": [
    {
     "name": "stderr",
     "output_type": "stream",
     "text": [
      "WARNING: push!(A) has been deprecated\n"
     ]
    },
    {
     "data": {
      "text/plain": [
       "360-element Array{Float64,1}:\n",
       "  0.0        \n",
       "  0.017501   \n",
       "  0.0349967  \n",
       "  0.0524816  \n",
       "  0.0699505  \n",
       "  0.0873979  \n",
       "  0.104819   \n",
       "  0.122207   \n",
       "  0.139558   \n",
       "  0.156867   \n",
       "  0.174127   \n",
       "  0.191334   \n",
       "  0.208482   \n",
       "  ⋮          \n",
       " -0.191334   \n",
       " -0.174127   \n",
       " -0.156867   \n",
       " -0.139558   \n",
       " -0.122207   \n",
       " -0.104819   \n",
       " -0.0873979  \n",
       " -0.0699505  \n",
       " -0.0524816  \n",
       " -0.0349967  \n",
       " -0.017501   \n",
       " -2.44929e-16"
      ]
     },
     "execution_count": 59,
     "metadata": {},
     "output_type": "execute_result"
    },
    {
     "name": "stderr",
     "output_type": "stream",
     "text": [
      " in depwarn at deprecated.jl:73\n",
      " in push! at deprecated.jl:439\n",
      " in include_string at loading.jl:266\n",
      " in execute_request_0x535c5df2 at /Users/Yuriko/.julia/v0.4/IJulia/src/execute_request.jl:177\n",
      " in eventloop at /Users/Yuriko/.julia/v0.4/IJulia/src/IJulia.jl:141\n",
      " in anonymous at task.jl:447\n",
      "while loading In[59], in expression starting on line 6\n"
     ]
    }
   ],
   "source": [
    "s=Array(Float64,360)\n",
    "for i in 1:360\n",
    "    s[i] = sin(t[i])\n",
    "    end\n",
    "    \n",
    "push!(s) "
   ]
  },
  {
   "cell_type": "code",
   "execution_count": 38,
   "metadata": {
    "collapsed": false
   },
   "outputs": [
    {
     "data": {
      "text/plain": [
       "DataType"
      ]
     },
     "execution_count": 38,
     "metadata": {},
     "output_type": "execute_result"
    }
   ],
   "source": [
    "typeof(ans)"
   ]
  },
  {
   "cell_type": "code",
   "execution_count": 23,
   "metadata": {
    "collapsed": false
   },
   "outputs": [
    {
     "data": {
      "image/png": "[encoded data removed]",
      "text/plain": [
       "PyPlot.Figure(PyObject <matplotlib.figure.Figure object at 0x31f0f9c90>)"
      ]
     },
     "metadata": {},
     "output_type": "display_data"
    },
    {
     "data": {
      "text/plain": [
       "1-element Array{Any,1}:\n",
       " PyObject <matplotlib.lines.Line2D object at 0x31f8b3810>"
      ]
     },
     "execution_count": 23,
     "metadata": {},
     "output_type": "execute_result"
    }
   ],
   "source": [
    "plot(sin(t))\n",
    "plot(0)"
   ]
  },
  {
   "cell_type": "code",
   "execution_count": 34,
   "metadata": {
    "collapsed": false
   },
   "outputs": [
    {
     "data": {
      "image/png": "[encoded data removed]",
      "text/plain": [
       "PyPlot.Figure(PyObject <matplotlib.figure.Figure object at 0x31f8cec90>)"
      ]
     },
     "metadata": {},
     "output_type": "display_data"
    },
    {
     "data": {
      "text/plain": [
       "0-element Array{Any,1}"
      ]
     },
     "execution_count": 34,
     "metadata": {},
     "output_type": "execute_result"
    }
   ],
   "source": [
    "plot()"
   ]
  },
  {
   "cell_type": "code",
   "execution_count": 12,
   "metadata": {
    "collapsed": false
   },
   "outputs": [
    {
     "data": {
      "text/plain": [
       "linspace(0.0,6.0,300)"
      ]
     },
     "execution_count": 12,
     "metadata": {},
     "output_type": "execute_result"
    }
   ],
   "source": [
    "hi = linspace(0.0, 6, 300)\n",
    "#h = 10.0.^(hi)\n"
   ]
  },
  {
   "cell_type": "code",
   "execution_count": 13,
   "metadata": {
    "collapsed": false
   },
   "outputs": [
    {
     "data": {
      "image/png": "[encoded data removed]",
      "text/plain": [
       "PyPlot.Figure(PyObject <matplotlib.figure.Figure object at 0x31ea73890>)"
      ]
     },
     "metadata": {},
     "output_type": "display_data"
    },
    {
     "data": {
      "text/plain": [
       "1-element Array{Any,1}:\n",
       " PyObject <matplotlib.lines.Line2D object at 0x31ebb1e90>"
      ]
     },
     "execution_count": 13,
     "metadata": {},
     "output_type": "execute_result"
    }
   ],
   "source": [
    "plot(hi, sin(hi))"
   ]
  },
  {
   "cell_type": "code",
   "execution_count": 14,
   "metadata": {
    "collapsed": false
   },
   "outputs": [
    {
     "data": {
      "text/plain": [
       "linspace(0.0,360.0,100)"
      ]
     },
     "execution_count": 14,
     "metadata": {},
     "output_type": "execute_result"
    }
   ],
   "source": [
    "i= linspace(0, 360, 100)"
   ]
  },
  {
   "cell_type": "code",
   "execution_count": null,
   "metadata": {
    "collapsed": false
   },
   "outputs": [],
   "source": []
  },
  {
   "cell_type": "code",
   "execution_count": 68,
   "metadata": {
    "collapsed": false
   },
   "outputs": [
    {
     "data": {
      "text/plain": [
       "lorenzSinTaylor (generic function with 1 method)"
      ]
     },
     "execution_count": 68,
     "metadata": {},
     "output_type": "execute_result"
    }
   ],
   "source": [
    "function lorenzSinTaylor(xx,t)\n",
    "    x, y, z, xr, yr, zr = xx\n",
    "    \n",
    "    #m = sin(t)\n",
    "    #s = x + m\n",
    "    \n",
    "    [AD.Taylor(x, [σ]) * (AD.Taylor(x, [y]) - AD.Taylor(x, [x])),\n",
    "    (AD.Taylor(y, [ρ]) * AD.Taylor(y, [x])) - AD.Taylor(y,[y]) - (AD.Taylor(y, [x]) * AD.Taylor(y, [z])), \n",
    "    (AD.Taylor(z, [x]) * AD.Taylor(z, [y])) - (AD.Taylor(z, [β]) * AD.Taylor(z, [z])),\n",
    "    AD.Taylor(xr, [σ]) * (AD.Taylor(xr, [yr]) - AD.Taylor(xr, [xr])),\n",
    "        (AD.Taylor(yr, [ρ]) * AD.Taylor(yr, [x + m])) - AD.Taylor(yr, [yr]) - (AD.Taylor(yr, [x + m]) * AD.Taylor(yr, [zr])),\n",
    "        (AD.Taylor(zr, [x + m]) * AD.Taylor(zr, [yr])) -  (AD.Taylor(zr, [β]) * AD.Taylor(zr, [zr]))]\n",
    "end"
   ]
  },
  {
   "cell_type": "code",
   "execution_count": 69,
   "metadata": {
    "collapsed": false
   },
   "outputs": [
    {
     "name": "stderr",
     "output_type": "stream",
     "text": [
      "WARNING: [a] concatenation is deprecated; use collect(a) instead\n"
     ]
    },
    {
     "ename": "LoadError",
     "evalue": "LoadError: DimensionMismatch(\"arrays could not be broadcast to a common size\")\nwhile loading In[69], in expression starting on line 1",
     "output_type": "error",
     "traceback": [
      "LoadError: DimensionMismatch(\"arrays could not be broadcast to a common size\")\nwhile loading In[69], in expression starting on line 1",
      "",
      " in broadcast_shape at broadcast.jl:41",
      " in lorenzSinTaylor at In[68]:7",
      " in integrador at /Users/Yuriko/ChaosCrypto.jl/src/Lorenz.jl:52"
     ]
    },
    {
     "name": "stderr",
     "output_type": "stream",
     "text": [
      " in depwarn at deprecated.jl:73\n",
      " in oldstyle_vcat_warning at /Applications/Julia-0.4.3.app/Contents/Resources/julia/lib/julia/sys.dylib\n",
      " in vect at abstractarray.jl:32\n",
      " in lorenzSinTaylor at In[68]:7\n",
      " in integrador at /Users/Yuriko/ChaosCrypto.jl/src/Lorenz.jl:52\n",
      " in include_string at loading.jl:266\n",
      " in execute_request_0x535c5df2 at /Users/Yuriko/.julia/v0.4/IJulia/src/execute_request.jl:177\n",
      " in eventloop at /Users/Yuriko/.julia/v0.4/IJulia/src/IJulia.jl:141\n",
      " in anonymous at task.jl:447\n",
      "while loading In[69], in expression starting on line 1\n"
     ]
    }
   ],
   "source": [
    "xsSinTaylor, tsSinTaylor = LO.integrador([1.0,1.0,1.0,1.0,1.0,1.0], lorenzSinTaylor, 30.0)"
   ]
  },
  {
   "cell_type": "code",
   "execution_count": null,
   "metadata": {
    "collapsed": true
   },
   "outputs": [],
   "source": []
  },
  {
   "cell_type": "code",
   "execution_count": 17,
   "metadata": {
    "collapsed": true
   },
   "outputs": [],
   "source": [
    "using PyPlot"
   ]
  },
  {
   "cell_type": "code",
   "execution_count": null,
   "metadata": {
    "collapsed": true
   },
   "outputs": [],
   "source": []
  }
 ],
 "metadata": {
  "kernelspec": {
   "display_name": "Julia 0.4.3",
   "language": "julia",
   "name": "julia-0.4"
  },
  "language_info": {
   "file_extension": ".jl",
   "mimetype": "application/julia",
   "name": "julia",
   "version": "0.4.3"
  }
 },
 "nbformat": 4,
 "nbformat_minor": 0
}
